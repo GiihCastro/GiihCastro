{
  "nbformat": 4,
  "nbformat_minor": 0,
  "metadata": {
    "colab": {
      "provenance": [],
      "include_colab_link": true
    },
    "kernelspec": {
      "name": "python3",
      "display_name": "Python 3"
    },
    "language_info": {
      "name": "python"
    }
  },
  "cells": [
    {
      "cell_type": "markdown",
      "metadata": {
        "id": "view-in-github",
        "colab_type": "text"
      },
      "source": [
        "<a href=\"https://colab.research.google.com/github/GiihCastro/GiihCastro/blob/main/C%C3%B3pia_de_exemplo.ipynb\" target=\"_parent\"><img src=\"https://colab.research.google.com/assets/colab-badge.svg\" alt=\"Open In Colab\"/></a>"
      ]
    },
    {
      "cell_type": "code",
      "source": [
        "%%writefile main.c\n",
        "\n",
        "#include <stdio.h>\n",
        "\n",
        "int main() {\n",
        "    printf(\"Hello world 1!\\n\");\n",
        "}"
      ],
      "metadata": {
        "id": "e_v2sHv3Yoje",
        "colab": {
          "base_uri": "https://localhost:8080/"
        },
        "outputId": "2094cf4a-f91b-469f-d135-51fbbc661687"
      },
      "execution_count": null,
      "outputs": [
        {
          "output_type": "stream",
          "name": "stdout",
          "text": [
            "Writing main.c\n"
          ]
        }
      ]
    },
    {
      "cell_type": "code",
      "source": [
        "%%writefile main.c\n",
        "\n",
        "#include <stdio.h>\n",
        "\n",
        "int main() {\n",
        "\tprintf(\"Hello world 2!\\n\");\n",
        "}"
      ],
      "metadata": {
        "id": "BrNqW49C1Wyx",
        "colab": {
          "base_uri": "https://localhost:8080/"
        },
        "outputId": "5778fcab-43b7-4c1e-e78e-43105539b459"
      },
      "execution_count": null,
      "outputs": [
        {
          "output_type": "stream",
          "name": "stdout",
          "text": [
            "Overwriting main.c\n"
          ]
        }
      ]
    },
    {
      "cell_type": "code",
      "source": [
        "%%shell\n",
        "gcc main.c -o main -lm\n",
        "./main"
      ],
      "metadata": {
        "id": "BoOxfp_NZvnh",
        "colab": {
          "base_uri": "https://localhost:8080/"
        },
        "outputId": "c7176618-8fd1-424b-dbe6-b2c53953d2da"
      },
      "execution_count": null,
      "outputs": [
        {
          "output_type": "stream",
          "name": "stdout",
          "text": [
            "Hello world 2!\n"
          ]
        },
        {
          "output_type": "execute_result",
          "data": {
            "text/plain": []
          },
          "metadata": {},
          "execution_count": 4
        }
      ]
    }
  ]
}